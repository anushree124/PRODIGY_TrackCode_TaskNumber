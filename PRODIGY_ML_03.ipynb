{
  "nbformat": 4,
  "nbformat_minor": 0,
  "metadata": {
    "colab": {
      "provenance": [],
      "mount_file_id": "10olgnHbNOuH9l4LhnrC1DNhDpnwLP5Eh",
      "authorship_tag": "ABX9TyOYNvEGkLErllVoCN+R6REC",
      "include_colab_link": true
    },
    "kernelspec": {
      "name": "python3",
      "display_name": "Python 3"
    },
    "language_info": {
      "name": "python"
    }
  },
  "cells": [
    {
      "cell_type": "markdown",
      "metadata": {
        "id": "view-in-github",
        "colab_type": "text"
      },
      "source": [
        "<a href=\"https://colab.research.google.com/github/anushree124/PRODIGY_TrackCode_TaskNumber/blob/main/PRODIGY_ML_03.ipynb\" target=\"_parent\"><img src=\"https://colab.research.google.com/assets/colab-badge.svg\" alt=\"Open In Colab\"/></a>"
      ]
    },
    {
      "cell_type": "code",
      "execution_count": 4,
      "metadata": {
        "colab": {
          "base_uri": "https://localhost:8080/",
          "height": 954
        },
        "id": "e9hozl497crd",
        "outputId": "29dac89a-45a7-4c88-9807-cecdfc2079f7"
      },
      "outputs": [
        {
          "output_type": "stream",
          "name": "stdout",
          "text": [
            "Loading cat images...\n"
          ]
        },
        {
          "output_type": "stream",
          "name": "stderr",
          "text": [
            "100%|██████████| 20/20 [00:04<00:00,  4.96it/s]\n"
          ]
        },
        {
          "output_type": "stream",
          "name": "stdout",
          "text": [
            "Loading dog images...\n"
          ]
        },
        {
          "output_type": "stream",
          "name": "stderr",
          "text": [
            "100%|██████████| 20/20 [00:03<00:00,  5.19it/s]\n"
          ]
        },
        {
          "output_type": "stream",
          "name": "stdout",
          "text": [
            "Training SVM model...\n",
            "Making predictions...\n",
            "Accuracy: 0.50\n",
            "\n",
            "Classification Report:\n",
            "              precision    recall  f1-score   support\n",
            "\n",
            "         Cat       0.67      0.40      0.50         5\n",
            "         Dog       0.40      0.67      0.50         3\n",
            "\n",
            "    accuracy                           0.50         8\n",
            "   macro avg       0.53      0.53      0.50         8\n",
            "weighted avg       0.57      0.50      0.50         8\n",
            "\n"
          ]
        },
        {
          "output_type": "display_data",
          "data": {
            "text/plain": [
              "<Figure size 800x600 with 2 Axes>"
            ],
            "image/png": "[encoded data removed]"
          },
          "metadata": {}
        }
      ],
      "source": [
        "import numpy as np\n",
        "import matplotlib.pyplot as plt\n",
        "from sklearn import svm, metrics\n",
        "from sklearn.model_selection import train_test_split\n",
        "from PIL import Image\n",
        "import os\n",
        "from tqdm import tqdm\n",
        "\n",
        "# Function to load and preprocess images\n",
        "def load_images(folder_path, label):\n",
        "    images = []\n",
        "    labels = []\n",
        "    for filename in tqdm(os.listdir(folder_path)):\n",
        "        if filename.endswith(\".jpg\"):\n",
        "            img_path = os.path.join(folder_path, filename)\n",
        "            img = Image.open(img_path).convert('L')  # Convert to grayscale\n",
        "            img = img.resize((64, 64))  # Resize for consistency\n",
        "            img_array = np.array(img).flatten()  # Flatten the 2D array\n",
        "            images.append(img_array)\n",
        "            labels.append(label)\n",
        "    return images, labels\n",
        "\n",
        "# Load the dataset\n",
        "cat_folder = '/content/drive/MyDrive/dogs vs cats/train'\n",
        "dog_folder = '/content/drive/MyDrive/dogs vs cats/test1'\n",
        "\n",
        "print(\"Loading cat images...\")\n",
        "cat_images, cat_labels = load_images(cat_folder, 0)\n",
        "print(\"Loading dog images...\")\n",
        "dog_images, dog_labels = load_images(dog_folder, 1)\n",
        "\n",
        "# Combine datasets\n",
        "X = np.array(cat_images + dog_images)\n",
        "y = np.array(cat_labels + dog_labels)\n",
        "\n",
        "# Split the data\n",
        "X_train, X_test, y_train, y_test = train_test_split(X, y, test_size=0.2, random_state=42)\n",
        "\n",
        "# Create and train the SVM model\n",
        "print(\"Training SVM model...\")\n",
        "clf = svm.SVC(kernel='rbf', C=1.0, random_state=42)\n",
        "clf.fit(X_train, y_train)\n",
        "\n",
        "# Make predictions\n",
        "print(\"Making predictions...\")\n",
        "y_pred = clf.predict(X_test)\n",
        "\n",
        "# Evaluate the model\n",
        "accuracy = metrics.accuracy_score(y_test, y_pred)\n",
        "print(f\"Accuracy: {accuracy:.2f}\")\n",
        "\n",
        "# Print classification report\n",
        "print(\"\\nClassification Report:\")\n",
        "print(metrics.classification_report(y_test, y_pred, target_names=['Cat', 'Dog']))\n",
        "\n",
        "# Plot confusion matrix\n",
        "cm = metrics.confusion_matrix(y_test, y_pred)\n",
        "plt.figure(figsize=(8, 6))\n",
        "plt.imshow(cm, interpolation='nearest', cmap=plt.cm.Blues)\n",
        "plt.title('Confusion Matrix')\n",
        "plt.colorbar()\n",
        "tick_marks = np.arange(2)\n",
        "plt.xticks(tick_marks, ['Cat', 'Dog'], rotation=45)\n",
        "plt.yticks(tick_marks, ['Cat', 'Dog'])\n",
        "plt.tight_layout()\n",
        "plt.ylabel('True label')\n",
        "plt.xlabel('Predicted label')\n",
        "plt.show()"
      ]
    }
  ]
}